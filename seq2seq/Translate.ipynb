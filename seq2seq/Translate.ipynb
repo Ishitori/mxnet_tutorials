{
 "cells": [
  {
   "cell_type": "markdown",
   "metadata": {},
   "source": [
    "# Seq2Seq using MXNet Gluon\n",
    "\n",
    "## Different types of RNN\n",
    "\n",
    "![](rnn_types.jpeg)\n",
    "\n",
    "## Seq2Seq network\n",
    "\n",
    "![](seq2seq.png)\n",
    "\n",
    "## Seq2Seq network with attention\n",
    "\n",
    "![](seq2seq_attention.png)"
   ]
  },
  {
   "cell_type": "code",
   "execution_count": 1,
   "metadata": {},
   "outputs": [
    {
     "name": "stderr",
     "output_type": "stream",
     "text": [
      "/home/ubuntu/.local/lib/python3.6/site-packages/h5py/__init__.py:36: FutureWarning: Conversion of the second argument of issubdtype from `float` to `np.floating` is deprecated. In future, it will be treated as `np.float64 == np.dtype(float).type`.\n",
      "  from ._conv import register_converters as _register_converters\n"
     ]
    }
   ],
   "source": [
    "from __future__ import unicode_literals\n",
    "\n",
    "import argparse\n",
    "import random\n",
    "import unicodedata\n",
    "import string\n",
    "import re\n",
    "\n",
    "import numpy as np\n",
    "import mxnet as mx\n",
    "from io import open\n",
    "from mxnet import gluon, autograd, nd\n",
    "from mxnet.gluon import nn, rnn, Block"
   ]
  },
  {
   "cell_type": "code",
   "execution_count": 2,
   "metadata": {},
   "outputs": [],
   "source": [
    "num_iters = 220000\n",
    "lr = 0.01\n",
    "max_length = 10\n",
    "num_layers = 1\n",
    "hidden_size = 256\n",
    "teacher_forcing_ratio = 0.5\n",
    "log_interval = 5000\n",
    "test = True"
   ]
  },
  {
   "cell_type": "code",
   "execution_count": 3,
   "metadata": {},
   "outputs": [],
   "source": [
    "SOS_token = 0\n",
    "EOS_token = 1\n",
    "\n",
    "ctx = mx.gpu(0)"
   ]
  },
  {
   "cell_type": "code",
   "execution_count": 4,
   "metadata": {},
   "outputs": [],
   "source": [
    "class Lang:\n",
    "    def __init__(self, name):\n",
    "        self.name = name\n",
    "        self.word2index = {}\n",
    "        self.word2count = {}\n",
    "        self.index2word = {0: \"SOS\", 1: \"EOS\"}\n",
    "        self.n_words = 2  # Count SOS and EOS\n",
    "\n",
    "    def addSentence(self, sentence):\n",
    "        for word in sentence.split(' '):\n",
    "            self.addWord(word)\n",
    "\n",
    "    def addWord(self, word):\n",
    "        if word not in self.word2index:\n",
    "            self.word2index[word] = self.n_words\n",
    "            self.word2count[word] = 1\n",
    "            self.index2word[self.n_words] = word\n",
    "            self.n_words += 1\n",
    "        else:\n",
    "            self.word2count[word] += 1\n",
    "\n",
    "# Turn a Unicode string to plain ASCII, thanks to\n",
    "# http://stackoverflow.com/a/518232/2809427\n",
    "def unicodeToAscii(s):\n",
    "    return ''.join(\n",
    "        c for c in unicodedata.normalize('NFD', s)\n",
    "        if unicodedata.category(c) != 'Mn'\n",
    "    )\n",
    "\n",
    "\n",
    "# Lowercase, trim, and remove non-letter characters\n",
    "def normalizeString(s):\n",
    "    s = unicodeToAscii(s.lower().strip())\n",
    "    s = re.sub(r\"([.!?])\", r\" \\1\", s)\n",
    "    s = re.sub(r\"[^a-zA-Z.!?]+\", r\" \", s)\n",
    "    return s\n",
    "\n",
    "def readLangs(lang1, lang2, reverse=False):\n",
    "    print(\"Reading lines...\")\n",
    "\n",
    "    # Read the file and split into lines\n",
    "    lines = open('data/%s-%s.txt' % (lang1, lang2), encoding='utf-8').\\\n",
    "        read().strip().split('\\n')\n",
    "\n",
    "    # Split every line into pairs and normalize\n",
    "    pairs = [[normalizeString(s) for s in l.split('\\t')] for l in lines]\n",
    "\n",
    "    # Reverse pairs, make Lang instances\n",
    "    if reverse:\n",
    "        pairs = [list(reversed(p)) for p in pairs]\n",
    "        input_lang = Lang(lang2)\n",
    "        output_lang = Lang(lang1)\n",
    "    else:\n",
    "        input_lang = Lang(lang1)\n",
    "        output_lang = Lang(lang2)\n",
    "\n",
    "    return input_lang, output_lang, pairs\n",
    "\n",
    "eng_prefixes = (\n",
    "    \"i am \", \"i m \",\n",
    "    \"he is\", \"he s \",\n",
    "    \"she is\", \"she s\",\n",
    "    \"you are\", \"you re \",\n",
    "    \"we are\", \"we re \",\n",
    "    \"they are\", \"they re \"\n",
    ")\n",
    "\n",
    "def filterPair(p, max_length):\n",
    "    return len(p[0].split(' ')) < max_length and \\\n",
    "        len(p[1].split(' ')) < max_length and \\\n",
    "        p[1].startswith(eng_prefixes)\n",
    "\n",
    "def filterPairs(pairs, max_length):\n",
    "    return [pair for pair in pairs if filterPair(pair, max_length)]\n",
    "\n",
    "def prepareData(lang1, lang2, max_length, reverse=False):\n",
    "    input_lang, output_lang, pairs = readLangs(lang1, lang2, reverse)\n",
    "    print(\"Read %s sentence pairs\" % len(pairs))\n",
    "    pairs = filterPairs(pairs, max_length)\n",
    "    print(\"Trimmed to %s sentence pairs\" % len(pairs))\n",
    "    print(\"Counting words...\")\n",
    "    for pair in pairs:\n",
    "        input_lang.addSentence(pair[0])\n",
    "        output_lang.addSentence(pair[1])\n",
    "    print(\"Counted words:\")\n",
    "    print(input_lang.name, input_lang.n_words)\n",
    "    print(output_lang.name, output_lang.n_words)\n",
    "    return input_lang, output_lang, pairs"
   ]
  },
  {
   "cell_type": "code",
   "execution_count": 5,
   "metadata": {},
   "outputs": [
    {
     "name": "stdout",
     "output_type": "stream",
     "text": [
      "Reading lines...\n",
      "Read 135842 sentence pairs\n",
      "Trimmed to 10853 sentence pairs\n",
      "Counting words...\n",
      "Counted words:\n",
      "fra 4489\n",
      "eng 2925\n",
      "['vous me decevez .', 'i m disappointed in you .']\n"
     ]
    }
   ],
   "source": [
    "input_lang, output_lang, pairs = prepareData('eng', 'fra', max_length, True)\n",
    "print(random.choice(pairs))"
   ]
  },
  {
   "cell_type": "code",
   "execution_count": 6,
   "metadata": {},
   "outputs": [],
   "source": [
    "def indexesFromSentence(lang, sentence):\n",
    "    return [lang.word2index[word] for word in sentence.split(' ')]\n",
    "\n",
    "def variableFromSentence(lang, sentence):\n",
    "    indexes = indexesFromSentence(lang, sentence)\n",
    "    indexes.append(EOS_token)\n",
    "    result = nd.array(indexes)\n",
    "    return result\n",
    "\n",
    "def variablesFromPair(pair):\n",
    "    input_variable = variableFromSentence(input_lang, pair[0])\n",
    "    target_variable = variableFromSentence(output_lang, pair[1])\n",
    "    return (input_variable, target_variable)"
   ]
  },
  {
   "cell_type": "markdown",
   "metadata": {},
   "source": [
    "![](code1.png)"
   ]
  },
  {
   "cell_type": "code",
   "execution_count": 7,
   "metadata": {},
   "outputs": [],
   "source": [
    "class EncoderRNN(Block):\n",
    "    def __init__(self, input_size, hidden_size, n_layers):\n",
    "        super(EncoderRNN, self).__init__()\n",
    "        self.hidden_size = hidden_size\n",
    "        self.n_layers = n_layers\n",
    "\n",
    "        with self.name_scope():\n",
    "            self.embedding = nn.Embedding(input_size, hidden_size)\n",
    "            self.gru = rnn.GRU(hidden_size, input_size=self.hidden_size)\n",
    "\n",
    "    def forward(self, input, hidden):\n",
    "        output = self.embedding(input).swapaxes(0, 1)\n",
    "        for i in range(self.n_layers):\n",
    "            output, hidden = self.gru(output, hidden)\n",
    "        return output, hidden\n",
    "\n",
    "    def initHidden(self, ctx):\n",
    "        return [nd.zeros((1, 1, self.hidden_size), ctx=ctx)]"
   ]
  },
  {
   "cell_type": "code",
   "execution_count": 8,
   "metadata": {},
   "outputs": [],
   "source": [
    "class AttnDecoderRNN(Block):\n",
    "    def __init__(self, hidden_size, output_size, n_layers, max_length, dropout_p=0.1):\n",
    "        super(AttnDecoderRNN, self).__init__()\n",
    "        self.hidden_size = hidden_size\n",
    "        self.output_size = output_size\n",
    "        self.n_layers = n_layers\n",
    "        self.dropout_p = dropout_p\n",
    "        self.max_length = max_length\n",
    "\n",
    "        with self.name_scope():\n",
    "            self.embedding = nn.Embedding(self.output_size, self.hidden_size)\n",
    "            self.attn = nn.Dense(self.max_length, in_units=self.hidden_size * 2)\n",
    "            self.attn_combine = nn.Dense(self.hidden_size, in_units=self.hidden_size * 2)\n",
    "            if self.dropout_p > 0:\n",
    "                self.dropout = nn.Dropout(self.dropout_p)\n",
    "            self.gru = rnn.GRU(self.hidden_size, input_size=self.hidden_size)\n",
    "            self.out = nn.Dense(self.output_size, in_units=self.hidden_size)\n",
    "\n",
    "    def forward(self, input, hidden, encoder_outputs):\n",
    "        \n",
    "        # Input shape is 1. Just a scalar. Examples of input: [0], [213], [23], [76]\n",
    "\n",
    "        # Hidden is a list because LSTMs could be stacked.\n",
    "        # Hidden[0] is the hidden state of the first LSTM\n",
    "        # Shape of Hidden[0] is (1, 1, 256)\n",
    "\n",
    "        # encoder_outputs is a (10, 256) tensor\n",
    "        \n",
    "        # embedded is a (1, 256) tensor\n",
    "        embedded = self.embedding(input)\n",
    "\n",
    "        # Dropout for regularization\n",
    "        if self.dropout_p > 0:\n",
    "            embedded = self.dropout(embedded)\n",
    "\n",
    "        # Depending on the hidden state and the input, predict attention weights.\n",
    "        # self.attn is a dense layer.\n",
    "        # attn_weights is a (1, 10) vector - one scalar for each time step in the input.\n",
    "        attn_weights = nd.softmax(\n",
    "            self.attn(nd.concat(embedded, hidden[0].flatten(), dim=1)))\n",
    "        \n",
    "        \n",
    "        # attn_weights is (1, 10)\n",
    "        # encoder_outputs is (10, 256)\n",
    "        # attn_applied is (1, 1, 256)\n",
    "        attn_applied = nd.batch_dot(attn_weights.expand_dims(0),\n",
    "                                 encoder_outputs.expand_dims(0))\n",
    "        \n",
    "        # Combine current input to decoder and attn_applied to input seq into one tensor\n",
    "        output = nd.concat(embedded.flatten(), attn_applied.flatten(), dim=1)\n",
    "        # Pass it through a dense layer to get a (1, 1, 256) tensor\n",
    "        output = self.attn_combine(output).expand_dims(0)\n",
    "\n",
    "        # pass output and hidden through GRU\n",
    "        for i in range(self.n_layers):\n",
    "            output = nd.relu(output)\n",
    "            output, hidden = self.gru(output, hidden)\n",
    "\n",
    "        # Final dense layer to create the output\n",
    "        output = self.out(output)\n",
    "\n",
    "        return output, hidden, attn_weights\n",
    "\n",
    "    def initHidden(self, ctx):\n",
    "        return [nd.zeros((1, 1, self.hidden_size), ctx=ctx)]"
   ]
  },
  {
   "cell_type": "code",
   "execution_count": 9,
   "metadata": {},
   "outputs": [],
   "source": [
    "def train(input_variable, target_variable, encoder, decoder, teacher_forcing_ratio,\n",
    "          encoder_optimizer, decoder_optimizer, criterion, max_length, ctx):\n",
    "    with autograd.record():\n",
    "        loss = nd.zeros((1,), ctx=ctx)\n",
    "\n",
    "        encoder_hidden = encoder.initHidden(ctx)\n",
    "\n",
    "        input_length = input_variable.shape[0]\n",
    "        target_length = target_variable.shape[0]\n",
    "\n",
    "        encoder_outputs, encoder_hidden = encoder(\n",
    "                input_variable.expand_dims(0), encoder_hidden)\n",
    "\n",
    "        if input_length < max_length:\n",
    "            encoder_outputs = nd.concat(encoder_outputs.flatten(),\n",
    "                nd.zeros((max_length - input_length, encoder.hidden_size), ctx=ctx), dim=0)\n",
    "        else:\n",
    "            encoder_outputs = encoder_outputs.flatten()\n",
    "\n",
    "\n",
    "\n",
    "        decoder_input = nd.array([SOS_token], ctx=ctx)\n",
    "\n",
    "        decoder_hidden = encoder_hidden\n",
    "\n",
    "        use_teacher_forcing = True if random.random() < teacher_forcing_ratio else False\n",
    "\n",
    "        if use_teacher_forcing:\n",
    "            # Teacher forcing: Feed the target as the next input\n",
    "            for di in range(target_length):\n",
    "                decoder_output, decoder_hidden, decoder_attention = decoder(\n",
    "                    decoder_input, decoder_hidden, encoder_outputs)\n",
    "\n",
    "                loss = nd.add(loss, criterion(decoder_output, target_variable[di]))\n",
    "                #print criterion(decoder_output, target_variable[di])\n",
    "                decoder_input = target_variable[di]  # Teacher forcing\n",
    "\n",
    "        else:\n",
    "            # Without teacher forcing: use its own predictions as the next input\n",
    "            for di in range(target_length):\n",
    "                decoder_output, decoder_hidden, decoder_attention = decoder(\n",
    "                    decoder_input, decoder_hidden, encoder_outputs)\n",
    "                topi = decoder_output.argmax(axis=1)\n",
    "\n",
    "                decoder_input = nd.array([topi.asscalar()], ctx=ctx)\n",
    "\n",
    "                loss = nd.add(loss, criterion(decoder_output, target_variable[di]))\n",
    "\n",
    "                if topi.asscalar() == EOS_token:\n",
    "                    break\n",
    "\n",
    "        loss.backward()\n",
    "\n",
    "    encoder_optimizer.step(1)\n",
    "    decoder_optimizer.step(1)\n",
    "\n",
    "    return loss.asscalar()/target_length"
   ]
  },
  {
   "cell_type": "code",
   "execution_count": 13,
   "metadata": {},
   "outputs": [],
   "source": [
    "def trainIters(encoder, decoder, ctx):\n",
    "    #start = time.time()\n",
    "    #plot_losses = []\n",
    "    print_every = log_interval\n",
    "    print_loss_total = 0  # Reset every print_every\n",
    "\n",
    "    encoder.initialize(ctx=ctx)\n",
    "    decoder.initialize(ctx=ctx)\n",
    "\n",
    "    encoder_optimizer = gluon.Trainer(encoder.collect_params(), 'sgd', {'learning_rate': lr})\n",
    "    decoder_optimizer = gluon.Trainer(decoder.collect_params(), 'sgd', {'learning_rate': lr})\n",
    "\n",
    "    training_pairs = [variablesFromPair(random.choice(pairs))\n",
    "                      for i in range(num_iters)]\n",
    "\n",
    "    criterion = gluon.loss.SoftmaxCrossEntropyLoss()\n",
    "\n",
    "    for iter in range(1, num_iters + 1):\n",
    "        training_pair = training_pairs[iter - 1]\n",
    "        input_variable = training_pair[0].as_in_context(ctx)\n",
    "        target_variable = training_pair[1].as_in_context(ctx)\n",
    "\n",
    "        loss = train(input_variable, target_variable, encoder, decoder, teacher_forcing_ratio,\n",
    "                     encoder_optimizer, decoder_optimizer, criterion, max_length, ctx)\n",
    "\n",
    "        print_loss_total += loss\n",
    "\n",
    "        if iter % print_every == 0:\n",
    "            print_loss_avg = print_loss_total / print_every\n",
    "            print_loss_total = 0\n",
    "            print(\"Iter: %d, Loss: %f\" % (iter, print_loss_avg))\n",
    "            \n",
    "        "
   ]
  },
  {
   "cell_type": "code",
   "execution_count": 14,
   "metadata": {},
   "outputs": [],
   "source": [
    "encoder = EncoderRNN(input_lang.n_words, hidden_size, num_layers)\n",
    "attn_decoder = AttnDecoderRNN(hidden_size, output_lang.n_words,\n",
    "                               num_layers, max_length, dropout_p=0.1)"
   ]
  },
  {
   "cell_type": "code",
   "execution_count": 15,
   "metadata": {},
   "outputs": [
    {
     "name": "stdout",
     "output_type": "stream",
     "text": [
      "Iter: 5000, Loss: 3.241804\n",
      "Iter: 10000, Loss: 2.801264\n",
      "Iter: 15000, Loss: 2.616214\n",
      "Iter: 20000, Loss: 2.463293\n",
      "Iter: 25000, Loss: 2.334231\n",
      "Iter: 30000, Loss: 2.215919\n",
      "Iter: 35000, Loss: 2.073867\n",
      "Iter: 40000, Loss: 1.938917\n",
      "Iter: 45000, Loss: 1.864805\n",
      "Iter: 50000, Loss: 1.784869\n",
      "Iter: 55000, Loss: 1.706256\n",
      "Iter: 60000, Loss: 1.592537\n",
      "Iter: 65000, Loss: 1.488486\n",
      "Iter: 70000, Loss: 1.442711\n",
      "Iter: 75000, Loss: 1.363164\n",
      "Iter: 80000, Loss: 1.305546\n",
      "Iter: 85000, Loss: 1.218956\n",
      "Iter: 90000, Loss: 1.175147\n",
      "Iter: 95000, Loss: 1.049850\n",
      "Iter: 100000, Loss: 1.050144\n",
      "Iter: 105000, Loss: 1.007301\n",
      "Iter: 110000, Loss: 0.943417\n",
      "Iter: 115000, Loss: 0.890869\n",
      "Iter: 120000, Loss: 0.830606\n",
      "Iter: 125000, Loss: 0.839308\n",
      "Iter: 130000, Loss: 0.752628\n",
      "Iter: 135000, Loss: 0.722229\n",
      "Iter: 140000, Loss: 0.712379\n",
      "Iter: 145000, Loss: 0.653361\n",
      "Iter: 150000, Loss: 0.630558\n",
      "Iter: 155000, Loss: 0.618550\n",
      "Iter: 160000, Loss: 0.572765\n",
      "Iter: 165000, Loss: 0.569241\n",
      "Iter: 170000, Loss: 0.546061\n",
      "Iter: 175000, Loss: 0.502664\n",
      "Iter: 180000, Loss: 0.491283\n",
      "Iter: 185000, Loss: 0.471345\n",
      "Iter: 190000, Loss: 0.481919\n",
      "Iter: 195000, Loss: 0.447028\n",
      "Iter: 200000, Loss: 0.475881\n",
      "Iter: 205000, Loss: 0.552294\n",
      "Iter: 210000, Loss: 0.623043\n",
      "Iter: 215000, Loss: 0.660884\n",
      "Iter: 220000, Loss: 0.553104\n"
     ]
    }
   ],
   "source": [
    "trainIters(encoder, attn_decoder, ctx)"
   ]
  },
  {
   "cell_type": "code",
   "execution_count": 16,
   "metadata": {},
   "outputs": [],
   "source": [
    "def evaluate(encoder, decoder, sentence, max_length=max_length):\n",
    "    input_tensor = variableFromSentence(input_lang, sentence).as_in_context(ctx)\n",
    "    input_length = input_tensor.shape[0]\n",
    "    print(input_length)\n",
    "    \n",
    "    encoder_hidden = encoder.initHidden(ctx)\n",
    "\n",
    "\n",
    "    encoder_outputs = nd.zeros((max_length, encoder.hidden_size), ctx=ctx)\n",
    "\n",
    "\n",
    "    for ei in range(input_length):\n",
    "        \n",
    "        encoder_output, encoder_hidden = encoder(input_tensor[ei].expand_dims(0),\n",
    "                                                 encoder_hidden)\n",
    "        encoder_outputs[ei] += encoder_output[0, 0]\n",
    "        \n",
    "    decoder_input = nd.array([SOS_token], ctx=ctx)\n",
    "\n",
    "    decoder_hidden = encoder_hidden\n",
    "\n",
    "    decoded_words = []\n",
    "    decoder_attentions = nd.zeros((max_length, max_length), ctx=ctx)\n",
    "\n",
    "    for di in range(max_length):\n",
    "        decoder_output, decoder_hidden, decoder_attention = decoder(\n",
    "            decoder_input, decoder_hidden, encoder_outputs)\n",
    "        decoder_attentions[di] = decoder_attention\n",
    "        \n",
    "        topi = nd.argmax(decoder_output, axis=1)\n",
    "        \n",
    "        if topi.asscalar() == EOS_token:\n",
    "            decoded_words.append('<EOS>')\n",
    "            break\n",
    "        else:\n",
    "            decoded_words.append(output_lang.index2word[topi.asscalar()])\n",
    "\n",
    "        decoder_input = topi\n",
    "\n",
    "    return decoded_words, decoder_attentions[:di + 1]"
   ]
  },
  {
   "cell_type": "code",
   "execution_count": 19,
   "metadata": {},
   "outputs": [
    {
     "name": "stdout",
     "output_type": "stream",
     "text": [
      "['je suis en bas .', 'i m downstairs .']\n",
      "6\n"
     ]
    },
    {
     "data": {
      "text/plain": [
       "(['i', 'm', 'downstairs', '.', '<EOS>'], \n",
       " [[3.53245327e-04 9.94926333e-01 4.34153946e-03 1.15865498e-06\n",
       "   6.46358967e-05 2.01082512e-05 4.03172635e-06 7.80339803e-07\n",
       "   2.80976645e-04 7.06006040e-06]\n",
       "  [9.53751411e-10 4.04205380e-09 1.49591165e-06 9.99992728e-01\n",
       "   5.53581594e-06 1.71412926e-10 8.25986720e-15 1.55355687e-10\n",
       "   1.28140456e-07 1.56093719e-07]\n",
       "  [2.35156727e-10 4.34673023e-17 4.40854471e-12 7.41146735e-08\n",
       "   1.44712715e-07 9.99999762e-01 5.11501377e-13 1.02461605e-16\n",
       "   6.48014715e-12 5.91358629e-10]\n",
       "  [1.97000048e-07 3.85390504e-14 4.00942925e-11 1.80393917e-16\n",
       "   8.65569394e-09 6.18776275e-09 9.99999762e-01 1.20949528e-10\n",
       "   2.76330998e-12 8.97970587e-11]\n",
       "  [4.19353174e-09 8.40451389e-11 2.62951466e-10 9.48485804e-11\n",
       "   3.43347378e-10 3.36677322e-15 5.11777642e-09 9.99999881e-01\n",
       "   6.18599247e-13 5.99967720e-08]]\n",
       " <NDArray 5x10 @gpu(0)>)"
      ]
     },
     "execution_count": 19,
     "metadata": {},
     "output_type": "execute_result"
    }
   ],
   "source": [
    "pair = random.choice(pairs)\n",
    "print(pair)\n",
    "evaluate(encoder, attn_decoder, pair[0], 10)"
   ]
  },
  {
   "cell_type": "code",
   "execution_count": 20,
   "metadata": {},
   "outputs": [
    {
     "name": "stdout",
     "output_type": "stream",
     "text": [
      "10\n",
      "input = elle a cinq ans de moins que moi .\n",
      "output = she s six years younger than i am . <EOS>\n"
     ]
    },
    {
     "data": {
      "image/png": "[encoded data removed]",
      "text/plain": [
       "<Figure size 432x288 with 2 Axes>"
      ]
     },
     "metadata": {},
     "output_type": "display_data"
    },
    {
     "name": "stdout",
     "output_type": "stream",
     "text": [
      "6\n",
      "input = elle est trop petit .\n",
      "output = she s too loud . <EOS>\n"
     ]
    },
    {
     "data": {
      "image/png": "[encoded data removed]",
      "text/plain": [
       "<Figure size 432x288 with 2 Axes>"
      ]
     },
     "metadata": {},
     "output_type": "display_data"
    },
    {
     "name": "stdout",
     "output_type": "stream",
     "text": [
      "8\n",
      "input = je ne crains pas de mourir .\n",
      "output = i m not afraid to die . <EOS>\n"
     ]
    },
    {
     "data": {
      "image/png": "[encoded data removed]",
      "text/plain": [
       "<Figure size 432x288 with 2 Axes>"
      ]
     },
     "metadata": {},
     "output_type": "display_data"
    },
    {
     "name": "stdout",
     "output_type": "stream",
     "text": [
      "10\n",
      "input = c est un jeune directeur plein de talent .\n",
      "output = he s a nervous young great . <EOS>\n"
     ]
    },
    {
     "data": {
      "image/png": "[encoded data removed]",
      "text/plain": [
       "<Figure size 432x288 with 2 Axes>"
      ]
     },
     "metadata": {},
     "output_type": "display_data"
    }
   ],
   "source": [
    "%matplotlib inline\n",
    "\n",
    "import matplotlib.pyplot as plt\n",
    "#plt.switch_backend('agg')\n",
    "import matplotlib.ticker as ticker\n",
    "import numpy as np\n",
    "\n",
    "\n",
    "def showPlot(points):\n",
    "    plt.figure()\n",
    "    fig, ax = plt.subplots()\n",
    "    # this locator puts ticks at regular intervals\n",
    "    loc = ticker.MultipleLocator(base=0.2)\n",
    "    ax.yaxis.set_major_locator(loc)\n",
    "    plt.plot(points)\n",
    "\n",
    "\n",
    "def showAttention(input_sentence, output_words, attentions):\n",
    "    # Set up figure with colorbar\n",
    "    fig = plt.figure()\n",
    "    ax = fig.add_subplot(111)\n",
    "    cax = ax.matshow(attentions.asnumpy(), cmap='bone')\n",
    "    fig.colorbar(cax)\n",
    "\n",
    "    # Set up axes\n",
    "    ax.set_xticklabels([''] + input_sentence.split(' ') +\n",
    "                       ['<EOS>'], rotation=90)\n",
    "    ax.set_yticklabels([''] + output_words)\n",
    "\n",
    "    # Show label at every tick\n",
    "    ax.xaxis.set_major_locator(ticker.MultipleLocator(1))\n",
    "    ax.yaxis.set_major_locator(ticker.MultipleLocator(1))\n",
    "\n",
    "    plt.show()\n",
    "\n",
    "\n",
    "def evaluateAndShowAttention(input_sentence):\n",
    "    output_words, attentions = evaluate(\n",
    "        encoder, attn_decoder, input_sentence)\n",
    "    print('input =', input_sentence)\n",
    "    print('output =', ' '.join(output_words))\n",
    "    showAttention(input_sentence, output_words, attentions)\n",
    "\n",
    "\n",
    "evaluateAndShowAttention(\"elle a cinq ans de moins que moi .\")\n",
    "\n",
    "evaluateAndShowAttention(\"elle est trop petit .\")\n",
    "\n",
    "evaluateAndShowAttention(\"je ne crains pas de mourir .\")\n",
    "\n",
    "evaluateAndShowAttention(\"c est un jeune directeur plein de talent .\")"
   ]
  },
  {
   "cell_type": "code",
   "execution_count": null,
   "metadata": {},
   "outputs": [],
   "source": []
  }
 ],
 "metadata": {
  "kernelspec": {
   "display_name": "Python [conda env:seq]",
   "language": "python",
   "name": "conda-env-seq-py"
  },
  "language_info": {
   "codemirror_mode": {
    "name": "ipython",
    "version": 3
   },
   "file_extension": ".py",
   "mimetype": "text/x-python",
   "name": "python",
   "nbconvert_exporter": "python",
   "pygments_lexer": "ipython3",
   "version": "3.6.5"
  }
 },
 "nbformat": 4,
 "nbformat_minor": 2
}
