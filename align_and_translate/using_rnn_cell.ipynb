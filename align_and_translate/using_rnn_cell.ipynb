{
 "cells": [
  {
   "cell_type": "code",
   "execution_count": 1,
   "metadata": {},
   "outputs": [],
   "source": [
    "import mxnet as mx\n",
    "from mxnet import nd, gluon"
   ]
  },
  {
   "cell_type": "code",
   "execution_count": 2,
   "metadata": {},
   "outputs": [],
   "source": [
    "class Encoder(gluon.Block):\n",
    "\n",
    "    def __init__(self, rnn_num_layers=1, rnn_hidden_size=512, src_vocab_size=10):\n",
    "        super(Encoder, self).__init__()\n",
    "        self.rnn_num_layers = rnn_num_layers\n",
    "        self.emb = gluon.nn.Embedding(src_vocab_size, rnn_hidden_size)\n",
    "        self.rnn = mx.gluon.rnn.SequentialRNNCell()\n",
    "        for i in range(rnn_num_layers):\n",
    "            self.rnn.add(mx.gluon.rnn.GRUCell(rnn_hidden_size))\n",
    "            self.rnn.add(mx.gluon.rnn.GRUCell(rnn_hidden_size))\n",
    "\n",
    "    def forward(self, x):\n",
    "        states = self.rnn.begin_state(batch_size=1)\n",
    "        out_states = []\n",
    "        for i in range(len(x)):\n",
    "            emb = self.emb(x[i])\n",
    "            _, states = self.rnn(x[i], states)\n",
    "            out_states.append(states[self.rnn_num_layers-1])\n",
    "        return out_states"
   ]
  },
  {
   "cell_type": "code",
   "execution_count": 3,
   "metadata": {},
   "outputs": [],
   "source": [
    "x = nd.array([1,2,3])\n",
    "e = Encoder()\n",
    "e.collect_params().initialize()\n",
    "out_states = e(x)"
   ]
  },
  {
   "cell_type": "code",
   "execution_count": null,
   "metadata": {},
   "outputs": [],
   "source": [
    "len(out_states)"
   ]
  },
  {
   "cell_type": "code",
   "execution_count": null,
   "metadata": {},
   "outputs": [],
   "source": [
    "out_states[1].shape"
   ]
  },
  {
   "cell_type": "code",
   "execution_count": 4,
   "metadata": {},
   "outputs": [
    {
     "data": {
      "text/plain": [
       "(3, 512)"
      ]
     },
     "execution_count": 4,
     "metadata": {},
     "output_type": "execute_result"
    }
   ],
   "source": [
    "st = nd.squeeze(nd.stack(*out_states))\n",
    "st.shape"
   ]
  },
  {
   "cell_type": "code",
   "execution_count": null,
   "metadata": {},
   "outputs": [],
   "source": [
    "class Decoder(gluon.Block):\n",
    "    def __init__(self, rnn_num_layers=1, rnn_hidden_size=512, target_vocab_size=10):\n",
    "        self.rnn = mx.gluon.rnn.SequentialRNNCell()\n",
    "        for i in range(rnn_num_layers):\n",
    "            self.rnn.add(mx.gluon.rnn.GRUCell(rnn_hidden_size))\n",
    "            self.rnn.add(mx.gluon.rnn.GRUCell(rnn_hidden_size))\n",
    "        pass\n",
    "        self.output = gluon.nn.Dense(target_vocab_size)\n",
    "    \n",
    "        self.attn_key_prev_state = gluon.nn.Dense(rnn_hidden_size)\n",
    "        \n",
    "        self.U_weights = self.params.get('U_weight', init=mx.init.Xavier(),\n",
    "                                                  shape=(rnn_hidden_size,rnn_hidden_size))\n",
    "        self.U_bias = self.params.get('U_bias', init=mx.init.Xavier(),\n",
    "                                               shape=(rnn_hidden_size,))\n",
    "\n",
    "        self.W_weights = self.params.get('W_weight', init=mx.init.Xavier(),\n",
    "                                                  shape=(rnn_hidden_size,rnn_hidden_size))\n",
    "        self.W_bias = self.params.get('W_bias', init=mx.init.Xavier(),\n",
    "                                               shape=(rnn_hidden_size,))\n",
    "        \n",
    "        \n",
    "    def forward(self, x, encoder_states, prev_state):\n",
    "        H = nd.squeeze(nd.stack(*out_states))\n",
    "        UH = nd.dot(h, self.U_weights.data()) + self.U_bias.data()\n",
    "        \n",
    "        Ws = nd.dot(prev_state, self.W_weights.data()) + self.W_bias.data()\n",
    "        \n",
    "        for i in len(encoder_states):\n",
    "            nd.tanh(UH[i] + Ws)\n",
    "            \n",
    "            \n",
    "        \n",
    "        \n",
    "        \n",
    "        "
   ]
  },
  {
   "cell_type": "code",
   "execution_count": 19,
   "metadata": {},
   "outputs": [
    {
     "name": "stdout",
     "output_type": "stream",
     "text": [
      "1\n",
      "2\n",
      "3\n"
     ]
    }
   ],
   "source": [
    "a = [1,2,3]\n",
    "for ai in a:\n",
    "    print(ai)"
   ]
  },
  {
   "cell_type": "code",
   "execution_count": null,
   "metadata": {},
   "outputs": [],
   "source": [
    "a[0]"
   ]
  },
  {
   "cell_type": "code",
   "execution_count": null,
   "metadata": {},
   "outputs": [],
   "source": [
    "a[1]"
   ]
  },
  {
   "cell_type": "code",
   "execution_count": null,
   "metadata": {},
   "outputs": [],
   "source": [
    "print(*a)"
   ]
  },
  {
   "cell_type": "code",
   "execution_count": 16,
   "metadata": {},
   "outputs": [],
   "source": [
    "x = nd.array([[1,1,1],[1,1,1]])\n",
    "y = nd.array([[1,1],[1,1],[1,1]])\n",
    "b = nd.array([5,5])"
   ]
  },
  {
   "cell_type": "code",
   "execution_count": 17,
   "metadata": {},
   "outputs": [
    {
     "name": "stdout",
     "output_type": "stream",
     "text": [
      "(2, 3)\n",
      "(3, 2)\n",
      "(2,)\n"
     ]
    }
   ],
   "source": [
    "print(x.shape)\n",
    "print(y.shape)\n",
    "print(b.shape)"
   ]
  },
  {
   "cell_type": "code",
   "execution_count": 18,
   "metadata": {},
   "outputs": [
    {
     "data": {
      "text/plain": [
       "\n",
       "[[8. 8.]\n",
       " [8. 8.]]\n",
       "<NDArray 2x2 @cpu(0)>"
      ]
     },
     "execution_count": 18,
     "metadata": {},
     "output_type": "execute_result"
    }
   ],
   "source": [
    "nd.dot(x,y) + b"
   ]
  },
  {
   "cell_type": "code",
   "execution_count": null,
   "metadata": {},
   "outputs": [],
   "source": []
  }
 ],
 "metadata": {
  "kernelspec": {
   "display_name": "Python [conda env:mx]",
   "language": "python",
   "name": "conda-env-mx-py"
  },
  "language_info": {
   "codemirror_mode": {
    "name": "ipython",
    "version": 3
   },
   "file_extension": ".py",
   "mimetype": "text/x-python",
   "name": "python",
   "nbconvert_exporter": "python",
   "pygments_lexer": "ipython3",
   "version": "3.6.6"
  }
 },
 "nbformat": 4,
 "nbformat_minor": 2
}
