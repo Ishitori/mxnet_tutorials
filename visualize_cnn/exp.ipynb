{
 "cells": [
  {
   "cell_type": "code",
   "execution_count": 1,
   "metadata": {},
   "outputs": [],
   "source": [
    "from mxnet import cpu\n",
    "from mxnet.gluon.block import HybridBlock\n",
    "from mxnet.gluon import nn\n",
    "\n",
    "import mxnet as mx"
   ]
  },
  {
   "cell_type": "code",
   "execution_count": 2,
   "metadata": {},
   "outputs": [],
   "source": [
    "class AlexNet(HybridBlock):\n",
    "    r\"\"\"AlexNet model from the `\"One weird trick...\" <https://arxiv.org/abs/1404.5997>`_ paper.\n",
    "    Parameters\n",
    "    ----------\n",
    "    classes : int, default 1000\n",
    "        Number of classes for the output layer.\n",
    "    \"\"\"\n",
    "    def __init__(self, classes=1000, **kwargs):\n",
    "        super(AlexNet, self).__init__(**kwargs)\n",
    "        with self.name_scope():\n",
    "            self.features = nn.HybridSequential(prefix='')\n",
    "            with self.features.name_scope():\n",
    "                self.features.add(nn.Conv2D(64, kernel_size=11, strides=4,\n",
    "                                            padding=2, activation='relu'))\n",
    "                self.features.add(nn.MaxPool2D(pool_size=3, strides=2))\n",
    "                self.features.add(nn.Conv2D(192, kernel_size=5, padding=2,\n",
    "                                            activation='relu'))\n",
    "                self.features.add(nn.MaxPool2D(pool_size=3, strides=2))\n",
    "                self.features.add(nn.Conv2D(384, kernel_size=3, padding=1,\n",
    "                                            activation='relu'))\n",
    "                self.features.add(nn.Conv2D(256, kernel_size=3, padding=1,\n",
    "                                            activation='relu'))\n",
    "                self.features.add(nn.Conv2D(256, kernel_size=3, padding=1,\n",
    "                                            activation='relu'))\n",
    "                self.features.add(nn.MaxPool2D(pool_size=3, strides=2))\n",
    "                self.features.add(nn.Flatten())\n",
    "                self.features.add(nn.Dense(4096, activation='relu'))\n",
    "                self.features.add(nn.Dropout(0.5))\n",
    "                self.features.add(nn.Dense(4096, activation='relu'))\n",
    "                self.features.add(nn.Dropout(0.5))\n",
    "\n",
    "            self.output = nn.Dense(classes)\n",
    "\n",
    "    def hybrid_forward(self, F, x):\n",
    "        x = self.features(x)\n",
    "        x = self.output(x)\n",
    "        return x\n"
   ]
  },
  {
   "cell_type": "code",
   "execution_count": 3,
   "metadata": {},
   "outputs": [],
   "source": [
    "net = AlexNet()"
   ]
  },
  {
   "cell_type": "code",
   "execution_count": 4,
   "metadata": {},
   "outputs": [
    {
     "data": {
      "text/plain": [
       "2"
      ]
     },
     "execution_count": 4,
     "metadata": {},
     "output_type": "execute_result"
    }
   ],
   "source": [
    "len(net._children)"
   ]
  },
  {
   "cell_type": "code",
   "execution_count": 15,
   "metadata": {},
   "outputs": [],
   "source": [
    "class ReversibleConv2D(nn.Conv2D):\n",
    "    def __init__(self, channels, kernel_size, strides=(1, 1), padding=(0, 0),\n",
    "                dilation=(1, 1), groups=1, layout='NCHW',\n",
    "                activation=None, use_bias=True, weight_initializer=None,\n",
    "                bias_initializer='zeros', in_channels=0, **kwargs):\n",
    "        super(ReversibleConv2D, self).__init__(channels, kernel_size, strides, padding,\n",
    "            dilation, groups, layout, activation, use_bias, weight_initializer,\n",
    "            bias_initializer, in_channels, **kwargs)\n",
    "\n",
    "        \n",
    "    def reverse(self, y):\n",
    "        print(self._channels)"
   ]
  },
  {
   "cell_type": "code",
   "execution_count": 16,
   "metadata": {},
   "outputs": [],
   "source": [
    "model_ctx = mx.gpu(0)\n",
    "net = ReversibleConv2D(256, kernel_size=3)\n",
    "net.collect_params().initialize(mx.init.Normal(sigma=.01), ctx=model_ctx)\n",
    "\n",
    "x = mx.nd.ones((1, 3, 10,10))"
   ]
  },
  {
   "cell_type": "code",
   "execution_count": 17,
   "metadata": {},
   "outputs": [],
   "source": [
    "y = net(x.as_in_context(model_ctx))"
   ]
  },
  {
   "cell_type": "code",
   "execution_count": 18,
   "metadata": {},
   "outputs": [
    {
     "name": "stdout",
     "output_type": "stream",
     "text": [
      "256\n"
     ]
    }
   ],
   "source": [
    "net.reverse(y)"
   ]
  },
  {
   "cell_type": "code",
   "execution_count": null,
   "metadata": {},
   "outputs": [],
   "source": []
  }
 ],
 "metadata": {
  "kernelspec": {
   "display_name": "Python 3",
   "language": "python",
   "name": "python3"
  },
  "language_info": {
   "codemirror_mode": {
    "name": "ipython",
    "version": 3
   },
   "file_extension": ".py",
   "mimetype": "text/x-python",
   "name": "python",
   "nbconvert_exporter": "python",
   "pygments_lexer": "ipython3",
   "version": "3.6.4"
  }
 },
 "nbformat": 4,
 "nbformat_minor": 2
}
