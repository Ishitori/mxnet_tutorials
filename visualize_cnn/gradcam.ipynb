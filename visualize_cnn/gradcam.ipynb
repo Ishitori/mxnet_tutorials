{
 "cells": [
  {
   "cell_type": "code",
   "execution_count": 1,
   "metadata": {},
   "outputs": [],
   "source": [
    "import os\n",
    "\n",
    "import mxnet as mx\n",
    "import mxnet.ndarray as nd\n",
    "from mxnet.gluon.block import HybridBlock\n",
    "from mxnet.gluon import nn\n",
    "from mxnet.gluon.model_zoo import model_store\n",
    "from mxnet import autograd\n",
    "\n",
    "from viz.layers import Activation, Conv2D\n",
    "\n",
    "import numpy as np\n",
    "import utils\n",
    "import cv2"
   ]
  },
  {
   "cell_type": "code",
   "execution_count": 2,
   "metadata": {},
   "outputs": [],
   "source": [
    "class AlexNet(HybridBlock):\n",
    "    def __init__(self, classes=1000, **kwargs):\n",
    "        super(AlexNet, self).__init__(**kwargs)\n",
    "        with self.name_scope():\n",
    "            self.features = nn.HybridSequential(prefix='')\n",
    "            with self.features.name_scope():\n",
    "                self.features.add(Conv2D(64, kernel_size=11, strides=4, padding=2))\n",
    "                self.features.add(Activation('relu'))\n",
    "                self.features.add(nn.MaxPool2D(pool_size=3, strides=2))\n",
    "                \n",
    "                self.features.add(Conv2D(192, kernel_size=5, padding=2))\n",
    "                self.features.add(Activation('relu'))\n",
    "                self.features.add(nn.MaxPool2D(pool_size=3, strides=2))\n",
    "                \n",
    "                self.features.add(Conv2D(384, kernel_size=3, padding=1))\n",
    "                self.features.add(Activation('relu'))\n",
    "                \n",
    "                self.features.add(Conv2D(256, kernel_size=3, padding=1))\n",
    "                self.features.add(Activation('relu'))\n",
    "                \n",
    "                self.features.add(Conv2D(256, kernel_size=3, padding=1))\n",
    "                self.features.add(Activation('relu'))\n",
    "                self.features.add(nn.MaxPool2D(pool_size=3, strides=2))\n",
    "                \n",
    "                self.features.add(nn.Flatten())\n",
    "\n",
    "                self.features.add(nn.Dense(4096))\n",
    "                self.features.add(Activation('relu'))\n",
    "                self.features.add(nn.Dropout(0.5))\n",
    "\n",
    "                self.features.add(nn.Dense(4096))\n",
    "                self.features.add(Activation('relu'))\n",
    "                self.features.add(nn.Dropout(0.5))\n",
    "\n",
    "            self.output = nn.Dense(classes)\n",
    "\n",
    "    def hybrid_forward(self, F, x):\n",
    "        x = self.features(x)\n",
    "        x = self.output(x)\n",
    "        return x\n",
    "\n",
    "# Constructor\n",
    "def alexnet(pretrained=False, ctx=mx.cpu(),\n",
    "            root=os.path.join('~', '.mxnet', 'models'), **kwargs):\n",
    "    r\"\"\"AlexNet model from the `\"One weird trick...\" <https://arxiv.org/abs/1404.5997>`_ paper.\n",
    "\n",
    "    Parameters\n",
    "    ----------\n",
    "    pretrained : bool, default False\n",
    "        Whether to load the pretrained weights for model.\n",
    "    ctx : Context, default CPU\n",
    "        The context in which to load the pretrained weights.\n",
    "    root : str, default '~/.mxnet/models'\n",
    "        Location for keeping the model parameters.\n",
    "    \"\"\"\n",
    "    net = AlexNet(**kwargs)\n",
    "    if pretrained:\n",
    "        net.load_params(model_store.get_model_file('alexnet', root=root), ctx=ctx)\n",
    "    return net"
   ]
  },
  {
   "cell_type": "code",
   "execution_count": 3,
   "metadata": {},
   "outputs": [],
   "source": [
    "alexnet = alexnet(pretrained=True)"
   ]
  },
  {
   "cell_type": "code",
   "execution_count": 4,
   "metadata": {},
   "outputs": [],
   "source": [
    "def preprocess(data):\n",
    "    data = mx.image.imresize(data, 256, 256)\n",
    "    data, _ = mx.image.center_crop(data, (224, 224))\n",
    "    data = data.astype(np.float32)\n",
    "    data = data/255\n",
    "    data = mx.image.color_normalize(data,\n",
    "                                    mean=mx.nd.array([0.485, 0.456, 0.406]),\n",
    "                                    std=mx.nd.array([0.229, 0.224, 0.225]))\n",
    "    data = mx.nd.transpose(data, (2,0,1))\n",
    "    return data"
   ]
  },
  {
   "cell_type": "code",
   "execution_count": 5,
   "metadata": {},
   "outputs": [
    {
     "data": {
      "text/plain": [
       "\n",
       "[ 56.]\n",
       "<NDArray 1 @cpu(0)>"
      ]
     },
     "execution_count": 5,
     "metadata": {},
     "output_type": "execute_result"
    }
   ],
   "source": [
    "with open(\"img/snake.jpg\", 'rb') as fp:\n",
    "    str_image = fp.read()\n",
    "\n",
    "image = mx.img.imdecode(str_image)\n",
    "image = preprocess(image)\n",
    "image = image.expand_dims(axis=0)\n",
    "\n",
    "with autograd.record():\n",
    "    out = alexnet(image)\n",
    "\n",
    "out.argmax(axis=1)"
   ]
  },
  {
   "cell_type": "code",
   "execution_count": 6,
   "metadata": {},
   "outputs": [
    {
     "name": "stdout",
     "output_type": "stream",
     "text": [
      "alexnet0_conv2d0 (1, 64, 55, 55) (1, 64, 55, 55)\n",
      "alexnet0_conv2d1 (1, 192, 27, 27) (1, 192, 27, 27)\n",
      "alexnet0_conv2d2 (1, 384, 13, 13) (1, 384, 13, 13)\n",
      "alexnet0_conv2d3 (1, 256, 13, 13) (1, 256, 13, 13)\n",
      "alexnet0_conv2d4 (1, 256, 13, 13) (1, 256, 13, 13)\n"
     ]
    }
   ],
   "source": [
    "for k, v in Conv2D.outputs.items():\n",
    "    print(k, v.shape, v.grad.shape)"
   ]
  },
  {
   "cell_type": "code",
   "execution_count": 7,
   "metadata": {},
   "outputs": [],
   "source": [
    "def save_class_activation_on_image(org_img, activation_map, file_name):\n",
    "    # Grayscale activation map\n",
    "    path_to_file = file_name+'_Cam_Grayscale.jpg'\n",
    "    cv2.imwrite(path_to_file, activation_map)\n",
    "    # Heatmap of activation map\n",
    "    activation_heatmap = cv2.applyColorMap(activation_map, cv2.COLORMAP_HSV)\n",
    "    path_to_file = file_name+'_Cam_Heatmap.jpg'\n",
    "    cv2.imwrite(path_to_file, activation_heatmap)\n",
    "    # Heatmap on picture\n",
    "    org_img = cv2.resize(org_img, (224, 224))\n",
    "    img_with_heatmap = np.float32(activation_heatmap) + np.float32(org_img)\n",
    "    img_with_heatmap = img_with_heatmap / np.max(img_with_heatmap)\n",
    "    path_to_file = file_name+'_Cam_On_Image.jpg'\n",
    "    cv2.imwrite(path_to_file, np.uint8(255 * img_with_heatmap))"
   ]
  },
  {
   "cell_type": "code",
   "execution_count": 8,
   "metadata": {},
   "outputs": [],
   "source": [
    "conv_output = Conv2D.outputs[\"alexnet0_conv2d4\"].asnumpy()\n",
    "model_output = out.asnumpy()\n",
    "\n",
    "target_class = np.argmax(model_output)\n",
    "\n",
    "one_hot_output = mx.nd.one_hot(mx.nd.array([target_class]), 1000)\n",
    "\n",
    "alexnet.collect_params().zero_grad()\n",
    "\n",
    "out.backward(one_hot_output)\n",
    "\n",
    "guided_gradients = Conv2D.outputs['alexnet0_conv2d4'].grad[0].asnumpy()\n",
    "\n",
    "target = Conv2D.outputs['alexnet0_conv2d4'][0].asnumpy()\n",
    "\n",
    "weights = np.mean(guided_gradients, axis=(1, 2))"
   ]
  },
  {
   "cell_type": "code",
   "execution_count": 9,
   "metadata": {},
   "outputs": [
    {
     "name": "stdout",
     "output_type": "stream",
     "text": [
      "(256, 13, 13)\n",
      "(256, 13, 13)\n",
      "(256,)\n"
     ]
    }
   ],
   "source": [
    "print(target.shape)\n",
    "print(guided_gradients.shape)\n",
    "#np.mean(guided_gradients, axis=(1, 2))\n",
    "print(weights.shape)"
   ]
  },
  {
   "cell_type": "code",
   "execution_count": 10,
   "metadata": {},
   "outputs": [
    {
     "name": "stdout",
     "output_type": "stream",
     "text": [
      "alexnet0_conv0_weight (64, 3, 11, 11)\n",
      "alexnet0_conv0_bias (64,)\n",
      "alexnet0_conv1_weight (192, 64, 5, 5)\n",
      "alexnet0_conv1_bias (192,)\n",
      "alexnet0_conv2_weight (384, 192, 3, 3)\n",
      "alexnet0_conv2_bias (384,)\n",
      "alexnet0_conv3_weight (256, 384, 3, 3)\n",
      "alexnet0_conv3_bias (256,)\n",
      "alexnet0_conv4_weight (256, 256, 3, 3)\n",
      "alexnet0_conv4_bias (256,)\n",
      "alexnet0_dense0_weight (4096, 9216)\n",
      "alexnet0_dense0_bias (4096,)\n",
      "alexnet0_dense1_weight (4096, 4096)\n",
      "alexnet0_dense1_bias (4096,)\n",
      "alexnet0_dense2_weight (1000, 4096)\n",
      "alexnet0_dense2_bias (1000,)\n"
     ]
    }
   ],
   "source": [
    "for k,v in alexnet.collect_params().items():\n",
    "    print(k, v.grad().shape)"
   ]
  },
  {
   "cell_type": "code",
   "execution_count": 11,
   "metadata": {},
   "outputs": [],
   "source": [
    "cam = np.ones(target.shape[1:], dtype=np.float32)\n",
    "\n",
    "for i, w in enumerate(weights):\n",
    "    cam += w * target[i, :, :]"
   ]
  },
  {
   "cell_type": "code",
   "execution_count": 12,
   "metadata": {},
   "outputs": [],
   "source": [
    "\n",
    "\n",
    "    \n",
    "cam = cv2.resize(cam, (224, 224))\n",
    "cam = np.maximum(cam, 0)\n",
    "cam = (cam - np.min(cam)) / (np.max(cam) - np.min(cam)) \n",
    "cam = np.uint8(cam * 255)\n",
    "\n"
   ]
  },
  {
   "cell_type": "code",
   "execution_count": 15,
   "metadata": {},
   "outputs": [],
   "source": [
    "org_img = image[0].transpose((1,2,0)).asnumpy()\n",
    "save_class_activation_on_image(org_img, cam, \"gradcam\")"
   ]
  }
 ],
 "metadata": {
  "kernelspec": {
   "display_name": "Python 3",
   "language": "python",
   "name": "python3"
  },
  "language_info": {
   "codemirror_mode": {
    "name": "ipython",
    "version": 3
   },
   "file_extension": ".py",
   "mimetype": "text/x-python",
   "name": "python",
   "nbconvert_exporter": "python",
   "pygments_lexer": "ipython3",
   "version": "3.6.4"
  }
 },
 "nbformat": 4,
 "nbformat_minor": 2
}
