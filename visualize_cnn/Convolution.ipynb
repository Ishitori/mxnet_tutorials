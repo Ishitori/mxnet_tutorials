{
 "cells": [
  {
   "cell_type": "code",
   "execution_count": 24,
   "metadata": {},
   "outputs": [],
   "source": [
    "import os\n",
    "\n",
    "import mxnet as mx\n",
    "import mxnet.ndarray as nd\n",
    "from mxnet.gluon.block import HybridBlock\n",
    "from mxnet.gluon import nn\n",
    "from mxnet.gluon.model_zoo import model_store\n",
    "from mxnet import autograd\n",
    "\n",
    "import numpy as np\n",
    "from relu_noneg import Relu\n",
    "import utils\n",
    "\n",
    "import cv2"
   ]
  },
  {
   "cell_type": "code",
   "execution_count": 30,
   "metadata": {},
   "outputs": [],
   "source": [
    "class Conv2D(nn.HybridBlock):\n",
    "    def __init__(self, channels, kernel_size, strides=(1, 1), padding=(0, 0),\n",
    "                 dilation=(1, 1), groups=1, layout='NCHW',\n",
    "                 activation=None, use_bias=True, weight_initializer=None,\n",
    "                 bias_initializer='zeros', in_channels=0, **kwargs):\n",
    "        super(Conv2D, self).__init__(**kwargs)\n",
    "        self.conv = nn.Conv2D(channels, kernel_size, strides=strides, padding=padding,\n",
    "                             dilation=dilation, groups=groups, layout=layout,\n",
    "                             activation=activation, use_bias=use_bias, weight_initializer=weight_initializer,\n",
    "                             bias_initializer=bias_initializer, in_channels=in_channels)\n",
    "        self.output = None\n",
    "    def hybrid_forward(self, F, x):\n",
    "        out = self.conv(x)\n",
    "        self.output = out.asnumpy()\n",
    "        return out"
   ]
  },
  {
   "cell_type": "code",
   "execution_count": 31,
   "metadata": {},
   "outputs": [
    {
     "name": "stdout",
     "output_type": "stream",
     "text": [
      "(1, 64, 55, 55)\n",
      "(1, 64, 55, 55)\n"
     ]
    }
   ],
   "source": [
    "x = nd.random_normal(shape=(1,3,224,224))\n",
    "conv = Conv2D(64, kernel_size=11, strides=4, padding=2)\n",
    "conv.collect_params().initialize()\n",
    "\n",
    "out = conv(x)\n",
    "\n",
    "print(conv.output.shape)\n",
    "print(out.shape)"
   ]
  },
  {
   "cell_type": "code",
   "execution_count": 32,
   "metadata": {},
   "outputs": [],
   "source": [
    "class AlexNet(HybridBlock):\n",
    "    def __init__(self, classes=1000, **kwargs):\n",
    "        super(AlexNet, self).__init__(**kwargs)\n",
    "        with self.name_scope():\n",
    "            self.features = nn.HybridSequential(prefix='')\n",
    "            with self.features.name_scope():\n",
    "                self.features.add(Conv2D(64, kernel_size=11, strides=4, padding=2))\n",
    "                self.features.add(nn.Activation('relu'))\n",
    "                self.features.add(nn.MaxPool2D(pool_size=3, strides=2))\n",
    "                \n",
    "                self.features.add(Conv2D(192, kernel_size=5, padding=2))\n",
    "                self.features.add(nn.Activation('relu'))\n",
    "                self.features.add(nn.MaxPool2D(pool_size=3, strides=2))\n",
    "                \n",
    "                self.features.add(Conv2D(384, kernel_size=3, padding=1))\n",
    "                self.features.add(nn.Activation('relu'))\n",
    "                \n",
    "                self.features.add(Conv2D(256, kernel_size=3, padding=1))\n",
    "                self.features.add(nn.Activation('relu'))\n",
    "                \n",
    "                self.features.add(Conv2D(256, kernel_size=3, padding=1))\n",
    "                self.features.add(nn.Activation('relu'))\n",
    "                self.features.add(nn.MaxPool2D(pool_size=3, strides=2))\n",
    "                \n",
    "                self.features.add(nn.Flatten())\n",
    "\n",
    "                self.features.add(nn.Dense(4096))\n",
    "                self.features.add(nn.Activation('relu'))\n",
    "                self.features.add(nn.Dropout(0.5))\n",
    "\n",
    "                self.features.add(nn.Dense(4096))\n",
    "                self.features.add(nn.Activation('relu'))\n",
    "                self.features.add(nn.Dropout(0.5))\n",
    "\n",
    "            self.output = nn.Dense(classes)\n",
    "\n",
    "    def hybrid_forward(self, F, x):\n",
    "        x = self.features(x)\n",
    "        x = self.output(x)\n",
    "        return x\n",
    "\n",
    "# Constructor\n",
    "def alexnet(pretrained=False, ctx=mx.cpu(),\n",
    "            root=os.path.join('~', '.mxnet', 'models'), **kwargs):\n",
    "    r\"\"\"AlexNet model from the `\"One weird trick...\" <https://arxiv.org/abs/1404.5997>`_ paper.\n",
    "\n",
    "    Parameters\n",
    "    ----------\n",
    "    pretrained : bool, default False\n",
    "        Whether to load the pretrained weights for model.\n",
    "    ctx : Context, default CPU\n",
    "        The context in which to load the pretrained weights.\n",
    "    root : str, default '~/.mxnet/models'\n",
    "        Location for keeping the model parameters.\n",
    "    \"\"\"\n",
    "    net = AlexNet(**kwargs)\n",
    "    if pretrained:\n",
    "        net.load_params(model_store.get_model_file('alexnet', root=root), ctx=ctx)\n",
    "    return net"
   ]
  },
  {
   "cell_type": "code",
   "execution_count": 33,
   "metadata": {},
   "outputs": [],
   "source": [
    "alexnet = alexnet(pretrained=True)"
   ]
  },
  {
   "cell_type": "code",
   "execution_count": 35,
   "metadata": {},
   "outputs": [],
   "source": [
    "def preprocess(data):\n",
    "    data = mx.image.imresize(data, 256, 256)\n",
    "    data, _ = mx.image.center_crop(data, (224, 224))\n",
    "    data = data.astype(np.float32)\n",
    "    data = data/255\n",
    "    data = mx.image.color_normalize(data,\n",
    "                                    mean=mx.nd.array([0.485, 0.456, 0.406]),\n",
    "                                    std=mx.nd.array([0.229, 0.224, 0.225]))\n",
    "    data = mx.nd.transpose(data, (2,0,1))\n",
    "    return data"
   ]
  },
  {
   "cell_type": "code",
   "execution_count": 36,
   "metadata": {},
   "outputs": [
    {
     "data": {
      "text/plain": [
       "\n",
       "[ 56.]\n",
       "<NDArray 1 @cpu(0)>"
      ]
     },
     "execution_count": 36,
     "metadata": {},
     "output_type": "execute_result"
    }
   ],
   "source": [
    "with open(\"img/snake.jpg\", 'rb') as fp:\n",
    "    str_image = fp.read()\n",
    "\n",
    "image = mx.img.imdecode(str_image)\n",
    "image = preprocess(image)\n",
    "image = image.expand_dims(axis=0)\n",
    "\n",
    "out = alexnet(image)\n",
    "out.argmax(axis=1)"
   ]
  },
  {
   "cell_type": "code",
   "execution_count": 37,
   "metadata": {},
   "outputs": [
    {
     "data": {
      "text/plain": [
       "array([[[[ -8.83482933e-01,  -3.25704169e+00,  -1.90798795e+00, ...,\n",
       "            4.74241304e+00,  -1.23616159e+00,  -2.45418096e+00],\n",
       "         [ -1.91891575e+00,  -5.69753051e-02,   8.64510477e-01, ...,\n",
       "           -2.28456807e+00,  -8.50221992e-01,  -7.30594158e-01],\n",
       "         [ -1.32628322e+00,  -2.39729190e+00,  -3.36551237e+00, ...,\n",
       "           -3.41404963e+00,  -2.13886189e+00,  -3.46683681e-01],\n",
       "         ..., \n",
       "         [ -1.36385083e+00,  -2.63987660e+00,   2.57552087e-01, ...,\n",
       "           -7.76892364e-01,  -3.92825425e-01,   3.60571682e-01],\n",
       "         [ -2.02458477e+00,  -2.55291581e-01,  -1.59875631e+00, ...,\n",
       "           -3.09720206e+00,  -4.40536082e-01,  -3.38562512e+00],\n",
       "         [ -2.26029336e-01,  -1.74332047e+00,  -1.37486970e+00, ...,\n",
       "           -3.48535359e-01,  -1.62863731e-02,  -8.89601886e-01]],\n",
       "\n",
       "        [[ -3.47705436e+00,  -3.39476085e+00,  -2.15162563e+00, ...,\n",
       "           -2.37417674e+00,  -1.82937527e+00,  -2.14547610e+00],\n",
       "         [ -3.34120369e+00,  -1.86848402e+00,  -2.19908929e+00, ...,\n",
       "           -6.59451246e+00,  -2.04775763e+00,  -2.96445298e+00],\n",
       "         [ -1.97521639e+00,  -2.89477277e+00,  -4.13345146e+00, ...,\n",
       "           -3.10611129e+00,  -4.40422106e+00,  -3.53931522e+00],\n",
       "         ..., \n",
       "         [ -4.34077215e+00,  -3.52784848e+00,  -6.37814474e+00, ...,\n",
       "           -3.06314373e+00,  -4.46023941e+00,  -5.87411690e+00],\n",
       "         [ -5.38687658e+00,  -3.53003860e+00,  -5.29261923e+00, ...,\n",
       "           -4.10470152e+00,  -4.97041655e+00,  -4.77411032e+00],\n",
       "         [ -5.62795448e+00,  -5.77455616e+00,  -4.62358284e+00, ...,\n",
       "           -3.90999985e+00,  -3.76848793e+00,  -3.29166293e+00]],\n",
       "\n",
       "        [[  6.26563549e-01,   5.81142724e-01,   2.66470522e-01, ...,\n",
       "           -1.49529763e-02,   1.88218141e+00,   6.73868895e-01],\n",
       "         [  8.24133098e-01,   3.96168888e-01,   3.61885816e-01, ...,\n",
       "           -3.33949834e-01,   1.21739268e+00,   1.23550415e+00],\n",
       "         [  7.77234495e-01,   2.38556817e-01,   2.07524523e-01, ...,\n",
       "           -5.40225863e-01,  -5.64585268e-01,   7.77274370e-01],\n",
       "         ..., \n",
       "         [  1.41347933e+00,   7.86190093e-01,  -2.37155128e+00, ...,\n",
       "           -5.19120172e-02,  -4.27248687e-01,   3.29944104e-01],\n",
       "         [  4.90257025e-01,   7.95047581e-01,  -9.98590827e-01, ...,\n",
       "            2.50920922e-01,   2.17377707e-01,  -1.90240696e-01],\n",
       "         [  9.71672595e-01,   6.28402293e-01,   7.35919356e-01, ...,\n",
       "           -3.92351419e-01,   1.72149658e-01,   4.72271264e-01]],\n",
       "\n",
       "        ..., \n",
       "        [[ -2.26113200e-03,   8.65712762e-03,  -2.11295426e-01, ...,\n",
       "            1.99091673e+00,   3.16708779e+00,   1.06273818e+00],\n",
       "         [ -8.80717874e-01,   5.03032923e-01,   2.69851494e+00, ...,\n",
       "           -1.07809544e+00,  -9.91555572e-01,   5.30189574e-02],\n",
       "         [  4.94752228e-02,  -3.99240375e-01,  -2.14987445e+00, ...,\n",
       "            1.37987649e+00,   4.52566415e-01,   1.25763088e-01],\n",
       "         ..., \n",
       "         [ -1.40037811e+00,  -1.76359200e+00,  -3.47406149e-01, ...,\n",
       "            8.11141610e-01,   3.43307614e+00,   2.58656669e+00],\n",
       "         [ -1.08346403e+00,  -2.68247217e-01,   3.07040066e-01, ...,\n",
       "           -6.12151265e-01,  -7.24737644e-01,  -1.24397445e+00],\n",
       "         [  4.23650265e+00,   4.69150686e+00,   3.80538988e+00, ...,\n",
       "            3.79702759e+00,   5.29916811e+00,   4.76301908e+00]],\n",
       "\n",
       "        [[  5.79586864e-01,   6.65065825e-01,   8.37168545e-02, ...,\n",
       "            3.80219555e+00,   3.29469872e+00,   1.15186214e+00],\n",
       "         [  3.18920881e-01,   2.74777293e-01,   8.63603055e-01, ...,\n",
       "            2.13011456e+00,   3.42720652e+00,   3.16982841e+00],\n",
       "         [ -1.80540264e-01,  -9.56007540e-01,  -9.29545343e-01, ...,\n",
       "           -2.25252676e+00,  -2.02999187e+00,   8.63043308e-01],\n",
       "         ..., \n",
       "         [  1.36953795e+00,   9.33261335e-01,   2.69615948e-01, ...,\n",
       "           -1.18953025e+00,  -2.38657519e-02,   1.08601719e-01],\n",
       "         [  9.39580262e-01,   1.60134745e+00,  -6.16488099e-01, ...,\n",
       "            8.49869132e-01,  -6.33281171e-01,  -2.54949450e+00],\n",
       "         [ -9.59337533e-01,   2.46224981e-02,  -8.71115148e-01, ...,\n",
       "           -1.16860831e+00,   7.73447454e-02,   2.11767375e-01]],\n",
       "\n",
       "        [[  1.51882517e+00,  -3.99401754e-01,  -3.71864438e-01, ...,\n",
       "            6.19152367e-01,  -1.80431223e+00,   1.44229734e+00],\n",
       "         [  8.47819924e-01,  -4.70015228e-01,  -2.47909054e-01, ...,\n",
       "           -4.21269476e-01,  -3.47793937e-01,   2.92167485e-01],\n",
       "         [ -1.39033270e+00,   1.49063861e+00,   1.42433262e+00, ...,\n",
       "           -9.96367335e-01,   1.48663759e+00,  -1.24695432e+00],\n",
       "         ..., \n",
       "         [ -5.44690609e-01,   3.50382984e-01,   1.52510846e+00, ...,\n",
       "            1.63429642e+00,  -1.68261278e+00,   5.33212125e-01],\n",
       "         [  3.74664950e+00,   5.38775027e-01,  -4.17301804e-01, ...,\n",
       "            1.82230258e+00,  -2.48705363e+00,   2.43531370e+00],\n",
       "         [  1.35190451e+00,  -1.17053258e+00,  -5.45607805e-01, ...,\n",
       "            1.32179987e+00,  -6.36050105e-01,   3.65459251e+00]]]], dtype=float32)"
      ]
     },
     "execution_count": 37,
     "metadata": {},
     "output_type": "execute_result"
    }
   ],
   "source": [
    "alexnet.features[0].output"
   ]
  },
  {
   "cell_type": "code",
   "execution_count": null,
   "metadata": {},
   "outputs": [],
   "source": []
  }
 ],
 "metadata": {
  "kernelspec": {
   "display_name": "Python 3",
   "language": "python",
   "name": "python3"
  },
  "language_info": {
   "codemirror_mode": {
    "name": "ipython",
    "version": 3
   },
   "file_extension": ".py",
   "mimetype": "text/x-python",
   "name": "python",
   "nbconvert_exporter": "python",
   "pygments_lexer": "ipython3",
   "version": "3.6.4"
  }
 },
 "nbformat": 4,
 "nbformat_minor": 2
}
