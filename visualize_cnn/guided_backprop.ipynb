{
 "cells": [
  {
   "cell_type": "code",
   "execution_count": 29,
   "metadata": {},
   "outputs": [],
   "source": [
    "import os\n",
    "\n",
    "import mxnet as mx\n",
    "from mxnet.gluon.block import HybridBlock\n",
    "from mxnet.gluon import nn\n",
    "from mxnet.gluon.model_zoo import model_store\n",
    "from mxnet import autograd\n",
    "\n",
    "import numpy as np\n",
    "from relu_noneg import Relu\n",
    "\n",
    "import cv2"
   ]
  },
  {
   "cell_type": "code",
   "execution_count": 6,
   "metadata": {},
   "outputs": [],
   "source": [
    "class AlexNet(HybridBlock):\n",
    "    def __init__(self, classes=1000, **kwargs):\n",
    "        super(AlexNet, self).__init__(**kwargs)\n",
    "        with self.name_scope():\n",
    "            self.features = nn.HybridSequential(prefix='')\n",
    "            with self.features.name_scope():\n",
    "                self.features.add(nn.Conv2D(64, kernel_size=11, strides=4, padding=2))\n",
    "                self.features.add(Relu())\n",
    "                self.features.add(nn.MaxPool2D(pool_size=3, strides=2))\n",
    "                \n",
    "                self.features.add(nn.Conv2D(192, kernel_size=5, padding=2))\n",
    "                self.features.add(Relu())\n",
    "                self.features.add(nn.MaxPool2D(pool_size=3, strides=2))\n",
    "                \n",
    "                self.features.add(nn.Conv2D(384, kernel_size=3, padding=1))\n",
    "                self.features.add(Relu())\n",
    "                \n",
    "                self.features.add(nn.Conv2D(256, kernel_size=3, padding=1))\n",
    "                self.features.add(Relu())\n",
    "                \n",
    "                self.features.add(nn.Conv2D(256, kernel_size=3, padding=1))\n",
    "                self.features.add(Relu())\n",
    "                self.features.add(nn.MaxPool2D(pool_size=3, strides=2))\n",
    "                \n",
    "                self.features.add(nn.Flatten())\n",
    "\n",
    "                self.features.add(nn.Dense(4096))\n",
    "                self.features.add(Relu())\n",
    "                self.features.add(nn.Dropout(0.5))\n",
    "\n",
    "                self.features.add(nn.Dense(4096))\n",
    "                self.features.add(Relu())\n",
    "                self.features.add(nn.Dropout(0.5))\n",
    "\n",
    "            self.output = nn.Dense(classes)\n",
    "\n",
    "    def hybrid_forward(self, F, x):\n",
    "        x = self.features(x)\n",
    "        x = self.output(x)\n",
    "        return x\n",
    "\n",
    "# Constructor\n",
    "def alexnet(pretrained=False, ctx=mx.cpu(),\n",
    "            root=os.path.join('~', '.mxnet', 'models'), **kwargs):\n",
    "    r\"\"\"AlexNet model from the `\"One weird trick...\" <https://arxiv.org/abs/1404.5997>`_ paper.\n",
    "\n",
    "    Parameters\n",
    "    ----------\n",
    "    pretrained : bool, default False\n",
    "        Whether to load the pretrained weights for model.\n",
    "    ctx : Context, default CPU\n",
    "        The context in which to load the pretrained weights.\n",
    "    root : str, default '~/.mxnet/models'\n",
    "        Location for keeping the model parameters.\n",
    "    \"\"\"\n",
    "    net = AlexNet(**kwargs)\n",
    "    if pretrained:\n",
    "        net.load_params(model_store.get_model_file('alexnet', root=root), ctx=ctx)\n",
    "    return net"
   ]
  },
  {
   "cell_type": "code",
   "execution_count": 7,
   "metadata": {},
   "outputs": [],
   "source": [
    "alexnet = alexnet(pretrained=True)"
   ]
  },
  {
   "cell_type": "code",
   "execution_count": 8,
   "metadata": {},
   "outputs": [],
   "source": [
    "def preprocess(data):\n",
    "    data = mx.image.imresize(data, 256, 256)\n",
    "    data, _ = mx.image.center_crop(data, (224, 224))\n",
    "    data = data.astype(np.float32)\n",
    "    data = data/255\n",
    "    data = mx.image.color_normalize(data,\n",
    "                                    mean=mx.nd.array([0.485, 0.456, 0.406]),\n",
    "                                    std=mx.nd.array([0.229, 0.224, 0.225]))\n",
    "    data = mx.nd.transpose(data, (2,0,1))\n",
    "    return data"
   ]
  },
  {
   "cell_type": "code",
   "execution_count": 23,
   "metadata": {},
   "outputs": [
    {
     "data": {
      "text/plain": [
       "\n",
       "[ 56.]\n",
       "<NDArray 1 @cpu(0)>"
      ]
     },
     "execution_count": 23,
     "metadata": {},
     "output_type": "execute_result"
    }
   ],
   "source": [
    "with open(\"img/snake.jpg\", 'rb') as fp:\n",
    "    str_image = fp.read()\n",
    "\n",
    "image = mx.img.imdecode(str_image)\n",
    "image = preprocess(image)\n",
    "image = image.expand_dims(axis=0)\n",
    "\n",
    "out = alexnet(image)\n",
    "out.argmax(axis=1)"
   ]
  },
  {
   "cell_type": "code",
   "execution_count": null,
   "metadata": {},
   "outputs": [],
   "source": [
    "for k, v in alexnet.collect_params().items():\n",
    "    print(k)\n",
    "    print(v.grad().shape)"
   ]
  },
  {
   "cell_type": "code",
   "execution_count": 24,
   "metadata": {},
   "outputs": [],
   "source": [
    "image.attach_grad()\n",
    "with autograd.record():\n",
    "    out = alexnet(image)"
   ]
  },
  {
   "cell_type": "code",
   "execution_count": 25,
   "metadata": {},
   "outputs": [
    {
     "data": {
      "text/plain": [
       "(1, 3, 224, 224)"
      ]
     },
     "execution_count": 25,
     "metadata": {},
     "output_type": "execute_result"
    }
   ],
   "source": [
    "out.backward()\n",
    "image.grad.shape"
   ]
  },
  {
   "cell_type": "code",
   "execution_count": 26,
   "metadata": {},
   "outputs": [],
   "source": [
    "def save_gradient_images(gradient, file_name):\n",
    "    \"\"\"\n",
    "        Exports the original gradient image\n",
    "    Args:\n",
    "        gradient (np arr): Numpy array of the gradient with shape (3, 224, 224)\n",
    "        file_name (str): File name to be exported\n",
    "    \"\"\"\n",
    "#     if not os.path.exists('../results'):\n",
    "#         os.makedirs('../results')\n",
    "    gradient = gradient - gradient.min()\n",
    "    gradient /= gradient.max()\n",
    "    gradient = np.uint8(gradient * 255).transpose(1, 2, 0)\n",
    "#    path_to_file = os.path.join('../results', file_name + '.jpg')\n",
    "    path_to_file = file_name + '.jpg'\n",
    "    # Convert RBG to GBR\n",
    "    gradient = gradient[..., ::-1]\n",
    "    cv2.imwrite(path_to_file, gradient)\n"
   ]
  },
  {
   "cell_type": "code",
   "execution_count": 34,
   "metadata": {},
   "outputs": [],
   "source": [
    "guided_grads = image.grad[0].asnumpy()\n",
    "save_gradient_images(guided_grads, \"test\")"
   ]
  },
  {
   "cell_type": "code",
   "execution_count": 35,
   "metadata": {},
   "outputs": [],
   "source": [
    "def convert_to_grayscale(cv2im):\n",
    "    \"\"\"\n",
    "        Converts 3d image to grayscale\n",
    "    Args:\n",
    "        cv2im (numpy arr): RGB image with shape (D,W,H)\n",
    "    returns:\n",
    "        grayscale_im (numpy_arr): Grayscale image with shape (1,W,D)\n",
    "    \"\"\"\n",
    "    grayscale_im = np.sum(np.abs(cv2im), axis=0)\n",
    "    im_max = np.percentile(grayscale_im, 99)\n",
    "    im_min = np.min(grayscale_im)\n",
    "    grayscale_im = (np.clip((grayscale_im - im_min) / (im_max - im_min), 0, 1))\n",
    "    grayscale_im = np.expand_dims(grayscale_im, axis=0)\n",
    "    return grayscale_im"
   ]
  },
  {
   "cell_type": "code",
   "execution_count": 36,
   "metadata": {},
   "outputs": [],
   "source": [
    "grayscale_guided_grads = convert_to_grayscale(guided_grads)"
   ]
  },
  {
   "cell_type": "code",
   "execution_count": 37,
   "metadata": {},
   "outputs": [],
   "source": [
    "save_gradient_images(grayscale_guided_grads, \"gray\")"
   ]
  },
  {
   "cell_type": "code",
   "execution_count": 38,
   "metadata": {},
   "outputs": [],
   "source": [
    "def get_positive_negative_saliency(gradient):\n",
    "    \"\"\"\n",
    "        Generates positive and negative saliency maps based on the gradient\n",
    "    Args:\n",
    "        gradient (numpy arr): Gradient of the operation to visualize\n",
    "    returns:\n",
    "        pos_saliency ( )\n",
    "    \"\"\"\n",
    "    pos_saliency = (np.maximum(0, gradient) / gradient.max())\n",
    "    neg_saliency = (np.maximum(0, -gradient) / -gradient.min())\n",
    "    return pos_saliency, neg_saliency\n",
    "\n",
    "pos_sal, neg_sal = get_positive_negative_saliency(guided_grads)\n",
    "save_gradient_images(pos_sal, \"pos_sal\")\n",
    "save_gradient_images(neg_sal, \"neg_sal\")"
   ]
  },
  {
   "cell_type": "code",
   "execution_count": null,
   "metadata": {},
   "outputs": [],
   "source": []
  }
 ],
 "metadata": {
  "kernelspec": {
   "display_name": "Python 3",
   "language": "python",
   "name": "python3"
  },
  "language_info": {
   "codemirror_mode": {
    "name": "ipython",
    "version": 3
   },
   "file_extension": ".py",
   "mimetype": "text/x-python",
   "name": "python",
   "nbconvert_exporter": "python",
   "pygments_lexer": "ipython3",
   "version": "3.6.4"
  }
 },
 "nbformat": 4,
 "nbformat_minor": 2
}
