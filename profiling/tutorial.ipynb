{
 "cells": [
  {
   "cell_type": "markdown",
   "metadata": {},
   "source": [
    "# Profiling MXNet Models\n",
    "\n",
    "In this tutorial, we will learn how to profile MXNet models to measure their running time and memory consumption using the MXNet profiler.\n",
    "\n",
    "## The incorrect way to profile\n",
    "\n",
    "If you have just begun using MXNet, you might be tempted to measure execution time of your code using Python's `time` module like shown below:"
   ]
  },
  {
   "cell_type": "code",
   "execution_count": 1,
   "metadata": {},
   "outputs": [
    {
     "name": "stderr",
     "output_type": "stream",
     "text": [
      "/home/ubuntu/.local/lib/python3.6/site-packages/h5py/__init__.py:36: FutureWarning: Conversion of the second argument of issubdtype from `float` to `np.floating` is deprecated. In future, it will be treated as `np.float64 == np.dtype(float).type`.\n",
      "  from ._conv import register_converters as _register_converters\n"
     ]
    },
    {
     "name": "stdout",
     "output_type": "stream",
     "text": [
      "Time for matrix multiplication: 0.001189 sec\n",
      "\n",
      "[[501.1584  508.29724 495.65237 ... 492.84705 492.69092 490.0481 ]\n",
      " [508.81058 507.1822  495.1743  ... 503.10526 497.29315 493.67917]\n",
      " [489.56598 499.47015 490.17722 ... 490.99945 488.05008 483.28836]\n",
      " ...\n",
      " [484.0019  495.7179  479.92142 ... 493.69952 478.89194 487.2074 ]\n",
      " [499.64932 507.65094 497.5938  ... 493.0474  500.74512 495.82712]\n",
      " [516.0143  519.1715  506.354   ... 510.08878 496.35608 495.42523]]\n",
      "Time for printing the output: 0.170921 sec\n"
     ]
    }
   ],
   "source": [
    "from time import time\n",
    "from mxnet import autograd, nd\n",
    "import mxnet as mx\n",
    "\n",
    "start = time()\n",
    "\n",
    "x = nd.random_uniform(shape=(2000,2000))\n",
    "y = nd.dot(x, x)\n",
    "\n",
    "print('Time for matrix multiplication: %f sec\\n' % (time() - start))\n",
    "                                \n",
    "print(y.asnumpy())\n",
    "                                \n",
    "print('Time for printing the output: %f sec' % (time() - start))"
   ]
  },
  {
   "cell_type": "markdown",
   "metadata": {},
   "source": [
    "Like you can see, it seems as if printing the output takes lot more time that multiplying two large matrices. That doesn't feel right. \n",
    "\n",
    "This is because in MXNet, all operations are executed asynchronously. So, when `nd.dot(x, x)` returns, the matrix multiplication is not complete, it has only been queued for execution. `asnumpy` in `print(y.asnumpy())` however waits for the result to be computed and hence takes longer time.\n",
    "\n",
    "## The correct way to profile\n",
    "\n",
    "The correct way to measure running time of MXNet models is to use MXNet profiler. In the rest of this tutorial, we will learn how to use the MXNet profiler to measure the running time and memory consumption of MXNet models.\n",
    "\n",
    "Let's begin by importing the profiler and configuring it."
   ]
  },
  {
   "cell_type": "code",
   "execution_count": 2,
   "metadata": {},
   "outputs": [],
   "source": [
    "from mxnet import profiler\n",
    "profiler.set_config(profile_all=True, aggregate_stats=True, filename='profile_output.json')"
   ]
  },
  {
   "cell_type": "markdown",
   "metadata": {},
   "source": [
    "`profile_all` enables all types of profiling. You can also individually enable the following types of profiling:\n",
    "\n",
    "- `profile_symbolic`: whether to profile symbolic operators\n",
    "- `profile_imperative`: whether to profile imperative operators\n",
    "- `profile_memory`: whether to profile memory usage\n",
    "- `profile_api`: whether to profile the C API\n",
    "\n",
    "`aggregate_stats` aggregates statistics in memory which can then be printed to console by calling `profiler.dumps()`.\n",
    "\n",
    "### Setup: Build a model\n",
    "\n",
    "Let's build a small model (LeNet) that we can use for profiling."
   ]
  },
  {
   "cell_type": "code",
   "execution_count": 3,
   "metadata": {},
   "outputs": [],
   "source": [
    "from mxnet import gluon\n",
    "net = gluon.nn.HybridSequential()\n",
    "with net.name_scope():\n",
    "    net.add(gluon.nn.Conv2D(channels=20, kernel_size=5, activation='relu'))\n",
    "    net.add(gluon.nn.MaxPool2D(pool_size=2, strides=2))\n",
    "    net.add(gluon.nn.Conv2D(channels=50, kernel_size=5, activation='relu'))\n",
    "    net.add(gluon.nn.MaxPool2D(pool_size=2, strides=2))\n",
    "    net.add(gluon.nn.Flatten())\n",
    "    net.add(gluon.nn.Dense(512, activation=\"relu\"))\n",
    "    net.add(gluon.nn.Dense(10))"
   ]
  },
  {
   "cell_type": "markdown",
   "metadata": {},
   "source": [
    "We need data that we can run through the network for profiling. We'll use MNIST dataset."
   ]
  },
  {
   "cell_type": "code",
   "execution_count": 4,
   "metadata": {},
   "outputs": [],
   "source": [
    "from mxnet.gluon.data.vision import transforms\n",
    "train_data = gluon.data.DataLoader(gluon.data.vision.MNIST(train=True).transform_first(transforms.ToTensor()),\n",
    "                                   batch_size=64, shuffle=True)"
   ]
  },
  {
   "cell_type": "markdown",
   "metadata": {},
   "source": [
    "Let's define a method that will run one training iteration given data and label."
   ]
  },
  {
   "cell_type": "code",
   "execution_count": 5,
   "metadata": {},
   "outputs": [],
   "source": [
    "# Use GPU is available\n",
    "ctx = mx.gpu() if mx.test_utils.list_gpus() else mx.cpu()\n",
    "\n",
    "# Initialize the parameters with random weights\n",
    "net.collect_params().initialize(mx.init.Xavier(), ctx=ctx)\n",
    "\n",
    "# Use SGD optimizer\n",
    "trainer = gluon.Trainer(net.collect_params(), 'sgd', {'learning_rate': .1})\n",
    "\n",
    "# Softmax Cross Entropy is a frequently used loss function for multi-classs classification\n",
    "softmax_cross_entropy = gluon.loss.SoftmaxCrossEntropyLoss()\n",
    "\n",
    "# A helper function to run one training iteration\n",
    "def run_training_iteration(data, label):\n",
    "    \n",
    "    # Load data and label is the right context\n",
    "    data = data.as_in_context(ctx)\n",
    "    label = label.as_in_context(ctx)\n",
    "    \n",
    "    # Run the forward pass\n",
    "    with autograd.record():\n",
    "        output = net(data)\n",
    "        loss = softmax_cross_entropy(output, label)\n",
    "    \n",
    "    # Run the backward pass\n",
    "    loss.backward()\n",
    "    \n",
    "    # Apply changes to parameters\n",
    "    trainer.step(data.shape[0])"
   ]
  },
  {
   "cell_type": "markdown",
   "metadata": {},
   "source": [
    "### Starting and stopping the profiler\n",
    "\n",
    "When the first forward pass is run on a network, MXNet does a number of housekeeping tasks including infering the shapes of various parameters and allocating memory for intermediate and final outputs, etc. For these reasons, profiling the first iteration doesn't provide accurate results. We will therefore skip the first iteration."
   ]
  },
  {
   "cell_type": "code",
   "execution_count": 6,
   "metadata": {},
   "outputs": [],
   "source": [
    "# Run the first iteration without profiling\n",
    "itr = iter(train_data)\n",
    "run_training_iteration(*next(itr))"
   ]
  },
  {
   "cell_type": "markdown",
   "metadata": {},
   "source": [
    "We'll run the next iteration with the profiler turned on."
   ]
  },
  {
   "cell_type": "code",
   "execution_count": 7,
   "metadata": {},
   "outputs": [],
   "source": [
    "\n",
    "data, label = next(itr)\n",
    "\n",
    "# Ask the profiler to start recording\n",
    "profiler.set_state('run')\n",
    "\n",
    "run_training_iteration(*next(itr))\n",
    "\n",
    "# Ask the profiler to stop recording\n",
    "profiler.set_state('stop')"
   ]
  },
  {
   "cell_type": "markdown",
   "metadata": {},
   "source": [
    "### Viewing profiler output\n",
    "\n",
    "There are two ways to view the information collected by the profiler. You can either view it in console or you can view a more graphical version in a browser.\n",
    "\n",
    "#### 1. View in console\n",
    "\n",
    "You can use the `profiler.dumps()` method to view the information collected by the profiler in the console. The collected information contains time taken by each operator, time taken by each C API and memory consumed in both CPU and GPU."
   ]
  },
  {
   "cell_type": "code",
   "execution_count": 8,
   "metadata": {},
   "outputs": [
    {
     "name": "stdout",
     "output_type": "stream",
     "text": [
      "\n",
      "Profile Statistics.\n",
      "\tNote that counter items are counter values and not time units.\n",
      "Device Storage\n",
      "=================\n",
      "Name                          Total Count        Time (ms)    Min Time (ms)    Max Time (ms)    Avg Time (ms)\n",
      "----                          -----------        ---------    -------------    -------------    -------------\n",
      "Memory: cpu/0                         132           0.0000           0.0000         401.6640         200.8320\n",
      "Memory: gpu/0                          43        5320.7041         200.7040        6099.2002        2949.2480\n",
      "\n",
      "MXNET_C_API\n",
      "=================\n",
      "Name                          Total Count        Time (ms)    Min Time (ms)    Max Time (ms)    Avg Time (ms)\n",
      "----                          -----------        ---------    -------------    -------------    -------------\n",
      "MXNDArrayReshape64                      1           0.0610           0.0610           0.0610           0.0610\n",
      "MXAutogradBackwardEx                    1           0.7250           0.7250           0.7250           0.7250\n",
      "MXAutogradSetIsTraining                 2           0.0020           0.0010           0.0010           0.0010\n",
      "MXAutogradSetIsRecording                2           0.0010           0.0000           0.0010           0.0005\n",
      "MXNDArraySyncCopyFromCPU                1           0.0510           0.0510           0.0510           0.0510\n",
      "MXNDArrayCreateEx                       3           0.0090           0.0020           0.0050           0.0030\n",
      "MXNDArrayGetDType                       3           0.0020           0.0000           0.0010           0.0007\n",
      "MXNDArrayFree                         146           0.5110           0.0000           0.0250           0.0035\n",
      "MXNDArraySetGradState                   8           0.0050           0.0000           0.0010           0.0006\n",
      "MXNDArrayGetGradState                   8           0.0050           0.0000           0.0010           0.0006\n",
      "MXNDArrayGetContext                    78           0.0370           0.0000           0.0010           0.0005\n",
      "MXNet C API Calls                     474           0.4740           0.0010           0.4740           0.2365\n",
      "MXNet C API Concurrency               948           0.0000           0.0000           0.0010           0.0005\n",
      "MXNDArrayGetShape                      69           0.0440           0.0000           0.0010           0.0006\n",
      "MXNDArrayAt                            64           0.1220           0.0010           0.0030           0.0019\n",
      "MXImperativeInvokeEx                   88           2.5160           0.0150           0.1230           0.0286\n",
      "\n",
      "operator\n",
      "=================\n",
      "Name                          Total Count        Time (ms)    Min Time (ms)    Max Time (ms)    Avg Time (ms)\n",
      "----                          -----------        ---------    -------------    -------------    -------------\n",
      "_backward_copy                          2           0.1360           0.0670           0.0690           0.0680\n",
      "sgd_update                              8           0.6480           0.0250           0.1550           0.0810\n",
      "_backward_Activation                    2           0.0820           0.0400           0.0420           0.0410\n",
      "_backward_mean                          2           0.1390           0.0690           0.0700           0.0695\n",
      "Convolution                             4           1.5330           0.3090           0.4580           0.3832\n",
      "stack                                   2           0.1700           0.0840           0.0860           0.0850\n",
      "pick                                    2           0.0610           0.0300           0.0310           0.0305\n",
      "WaitForVar                              2           0.0150           0.0060           0.0090           0.0075\n",
      "Activation                              6           0.3040           0.0290           0.0830           0.0507\n",
      "mean                                    2           0.0880           0.0430           0.0450           0.0440\n",
      "_image_to_tensor                      128           1.2320           0.0080           0.0250           0.0096\n",
      "_backward_pick                          2           0.0770           0.0380           0.0390           0.0385\n",
      "Pooling                                 4           0.2390           0.0410           0.0790           0.0597\n",
      "_backward_FullyConnected                4           0.6980           0.0780           0.2710           0.1745\n",
      "DeleteVariable                        168           0.3520           0.0010           0.0140           0.0021\n",
      "_mul_scalar                             2           0.0510           0.0250           0.0260           0.0255\n",
      "CopyCPU2GPU                             4           0.3540           0.0510           0.1270           0.0885\n",
      "FullyConnected                          4           0.6920           0.1340           0.2120           0.1730\n",
      "SetValueOp                              2           0.1490           0.0730           0.0760           0.0745\n",
      "log_softmax                             2           0.0710           0.0350           0.0360           0.0355\n",
      "_backward_mul_scalar                    2           0.0610           0.0300           0.0310           0.0305\n",
      "_backward_log_softmax                   2           0.5660           0.2820           0.2840           0.2830\n",
      "\n",
      "\n"
     ]
    }
   ],
   "source": [
    "print(profiler.dumps())"
   ]
  },
  {
   "cell_type": "markdown",
   "metadata": {},
   "source": [
    "#### 2. View in browser\n",
    "\n",
    "You can also dump the information collected by the profiler into a `json` file using the `profiler.dump()` function and view it in a browser."
   ]
  },
  {
   "cell_type": "code",
   "execution_count": 9,
   "metadata": {},
   "outputs": [],
   "source": [
    "profiler.dump()"
   ]
  },
  {
   "cell_type": "markdown",
   "metadata": {},
   "source": [
    "`dump()` creates a `json` file which can be viewed using a trace consumer like chrome://tracing. Here is a snapshot that shows a trace output.\n",
    "\n",
    "![Tracing Screenshot](profiler_output_chrome.png)\n",
    "\n",
    "Let's zoom in to check the time taken by operators\n",
    "\n",
    "![Operator profiling](profile_operators.png)"
   ]
  },
  {
   "cell_type": "code",
   "execution_count": null,
   "metadata": {},
   "outputs": [],
   "source": []
  }
 ],
 "metadata": {
  "kernelspec": {
   "display_name": "Python 3",
   "language": "python",
   "name": "python3"
  },
  "language_info": {
   "codemirror_mode": {
    "name": "ipython",
    "version": 3
   },
   "file_extension": ".py",
   "mimetype": "text/x-python",
   "name": "python",
   "nbconvert_exporter": "python",
   "pygments_lexer": "ipython3",
   "version": "3.6.5"
  }
 },
 "nbformat": 4,
 "nbformat_minor": 2
}
